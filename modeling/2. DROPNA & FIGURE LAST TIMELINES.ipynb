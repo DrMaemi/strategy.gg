{
 "cells": [
  {
   "cell_type": "code",
   "execution_count": 1,
   "metadata": {},
   "outputs": [],
   "source": [
    "import pandas as pd\n",
    "import pickle"
   ]
  },
  {
   "cell_type": "code",
   "execution_count": 2,
   "metadata": {},
   "outputs": [
    {
     "data": {
      "text/plain": [
       "Index(['gameId', 'blueWins', 'blueTotalGolds', 'blueCurrentGolds',\n",
       "       'blueTotalLevel', 'blueAvgLevel', 'blueTotalMinionKills',\n",
       "       'blueTotalJungleMinionKills', 'blueFirstBlood', 'blueKill', 'blueDeath',\n",
       "       'blueAssist', 'blueWardPlaced', 'blueWardKills', 'blueFirstTower',\n",
       "       'blueFirstInhibitor', 'blueFirstTowerLane', 'blueTowerKills',\n",
       "       'blueMidTowerKills', 'blueTopTowerKills', 'blueBotTowerKills',\n",
       "       'blueInhibitor', 'blueFirstDragon', 'blueDragonType', 'blueDragon',\n",
       "       'blueRiftHeralds', 'blueFirstBaron', 'blueBaron', 'redWins',\n",
       "       'redTotalGolds', 'redCurrentGolds', 'redTotalLevel', 'redAvgLevel',\n",
       "       'redTotalMinionKills', 'redTotalJungleMinionKills', 'redFirstBlood',\n",
       "       'redKill', 'redDeath', 'redAssist', 'redWardPlaced', 'redWardKills',\n",
       "       'redFirstTower', 'redFirstInhibitor', 'redFirstTowerLane',\n",
       "       'redTowerKills', 'redMidTowerKills', 'redTopTowerKills',\n",
       "       'redBotTowerKills', 'redInhibitor', 'redFirstDragon', 'redDragonType',\n",
       "       'redDragon', 'redRiftHeralds', 'redFirstBaron', 'redBaron'],\n",
       "      dtype='object')"
      ]
     },
     "execution_count": 2,
     "metadata": {},
     "output_type": "execute_result"
    }
   ],
   "source": [
    "kinds = 'Additional'\n",
    "tier, m = 'CHALLENGER', 3\n",
    "start, end = 3, 50 # why begin 3 minutes?\n",
    "# Additional, Train\n",
    "#df = pd.read_csv(\"./Timeline DataFrames/{0}/{1}/Train/{1}{2}.csv\".format(kinds, tier, m))\n",
    "\n",
    "# Additional, Test\n",
    "df = pd.read_csv(\"./Timeline DataFrames/{0}/{1}/Test/{1}{2}.csv\".format(kinds, tier, m))\n",
    "\n",
    "# Original\n",
    "#df = pd.read_csv(\"./Timeline DataFrames/{0}/{1}/{1}{2}.csv\".format(kinds, tier, m))\n",
    "\n",
    "df.columns"
   ]
  },
  {
   "cell_type": "markdown",
   "metadata": {},
   "source": [
    "#### NaN 검사"
   ]
  },
  {
   "cell_type": "code",
   "execution_count": 3,
   "metadata": {
    "scrolled": true
   },
   "outputs": [
    {
     "name": "stdout",
     "output_type": "stream",
     "text": [
      "-------------------------------------------------\n",
      "Before delete, CHALLENGER1.csv DataFrame's shape is (5212, 55)\n",
      "After delete, CHALLENGER1.csv DataFrame's shape is (5212, 55)\n",
      "-------------------------------------------------\n",
      "Before delete, CHALLENGER2.csv DataFrame's shape is (5212, 55)\n",
      "After delete, CHALLENGER2.csv DataFrame's shape is (5212, 55)\n",
      "-------------------------------------------------\n",
      "Before delete, CHALLENGER3.csv DataFrame's shape is (5212, 55)\n",
      "After delete, CHALLENGER3.csv DataFrame's shape is (5212, 55)\n",
      "-------------------------------------------------\n",
      "Before delete, CHALLENGER4.csv DataFrame's shape is (5212, 55)\n",
      "After delete, CHALLENGER4.csv DataFrame's shape is (5212, 55)\n",
      "-------------------------------------------------\n",
      "Before delete, CHALLENGER5.csv DataFrame's shape is (5212, 55)\n",
      "After delete, CHALLENGER5.csv DataFrame's shape is (5212, 55)\n",
      "-------------------------------------------------\n",
      "Before delete, CHALLENGER6.csv DataFrame's shape is (5212, 55)\n",
      "After delete, CHALLENGER6.csv DataFrame's shape is (5212, 55)\n",
      "-------------------------------------------------\n",
      "Before delete, CHALLENGER7.csv DataFrame's shape is (5212, 55)\n",
      "After delete, CHALLENGER7.csv DataFrame's shape is (5212, 55)\n",
      "-------------------------------------------------\n",
      "Before delete, CHALLENGER8.csv DataFrame's shape is (5212, 55)\n",
      "After delete, CHALLENGER8.csv DataFrame's shape is (5212, 55)\n",
      "-------------------------------------------------\n",
      "Before delete, CHALLENGER9.csv DataFrame's shape is (5212, 55)\n",
      "After delete, CHALLENGER9.csv DataFrame's shape is (5212, 55)\n",
      "-------------------------------------------------\n",
      "Before delete, CHALLENGER10.csv DataFrame's shape is (5212, 55)\n",
      "After delete, CHALLENGER10.csv DataFrame's shape is (5212, 55)\n",
      "-------------------------------------------------\n",
      "Before delete, CHALLENGER11.csv DataFrame's shape is (5212, 55)\n",
      "After delete, CHALLENGER11.csv DataFrame's shape is (5212, 55)\n",
      "-------------------------------------------------\n",
      "Before delete, CHALLENGER12.csv DataFrame's shape is (5212, 55)\n",
      "After delete, CHALLENGER12.csv DataFrame's shape is (5212, 55)\n",
      "-------------------------------------------------\n",
      "Before delete, CHALLENGER13.csv DataFrame's shape is (5212, 55)\n",
      "After delete, CHALLENGER13.csv DataFrame's shape is (5212, 55)\n",
      "-------------------------------------------------\n",
      "Before delete, CHALLENGER14.csv DataFrame's shape is (5212, 55)\n",
      "After delete, CHALLENGER14.csv DataFrame's shape is (5212, 55)\n",
      "-------------------------------------------------\n",
      "Before delete, CHALLENGER15.csv DataFrame's shape is (5212, 55)\n",
      "After delete, CHALLENGER15.csv DataFrame's shape is (5212, 55)\n",
      "-------------------------------------------------\n",
      "Before delete, CHALLENGER16.csv DataFrame's shape is (5212, 55)\n",
      "After delete, CHALLENGER16.csv DataFrame's shape is (5212, 55)\n",
      "-------------------------------------------------\n",
      "Before delete, CHALLENGER17.csv DataFrame's shape is (5212, 55)\n",
      "After delete, CHALLENGER17.csv DataFrame's shape is (5212, 55)\n",
      "-------------------------------------------------\n",
      "Before delete, CHALLENGER18.csv DataFrame's shape is (5212, 55)\n",
      "After delete, CHALLENGER18.csv DataFrame's shape is (5212, 55)\n",
      "-------------------------------------------------\n",
      "Before delete, CHALLENGER19.csv DataFrame's shape is (5212, 55)\n",
      "After delete, CHALLENGER19.csv DataFrame's shape is (5212, 55)\n",
      "-------------------------------------------------\n",
      "Before delete, CHALLENGER20.csv DataFrame's shape is (5212, 55)\n",
      "After delete, CHALLENGER20.csv DataFrame's shape is (5212, 55)\n",
      "-------------------------------------------------\n",
      "Before delete, CHALLENGER21.csv DataFrame's shape is (5212, 55)\n",
      "After delete, CHALLENGER21.csv DataFrame's shape is (5212, 55)\n",
      "-------------------------------------------------\n",
      "Before delete, CHALLENGER22.csv DataFrame's shape is (5212, 55)\n",
      "After delete, CHALLENGER22.csv DataFrame's shape is (5212, 55)\n",
      "-------------------------------------------------\n",
      "Before delete, CHALLENGER23.csv DataFrame's shape is (5212, 55)\n",
      "After delete, CHALLENGER23.csv DataFrame's shape is (5212, 55)\n",
      "-------------------------------------------------\n",
      "Before delete, CHALLENGER24.csv DataFrame's shape is (5212, 55)\n",
      "After delete, CHALLENGER24.csv DataFrame's shape is (5212, 55)\n",
      "-------------------------------------------------\n",
      "Before delete, CHALLENGER25.csv DataFrame's shape is (5212, 55)\n",
      "After delete, CHALLENGER25.csv DataFrame's shape is (5212, 55)\n",
      "-------------------------------------------------\n",
      "Before delete, CHALLENGER26.csv DataFrame's shape is (5212, 55)\n",
      "After delete, CHALLENGER26.csv DataFrame's shape is (5212, 55)\n",
      "-------------------------------------------------\n",
      "Before delete, CHALLENGER27.csv DataFrame's shape is (5212, 55)\n",
      "After delete, CHALLENGER27.csv DataFrame's shape is (5212, 55)\n",
      "-------------------------------------------------\n",
      "Before delete, CHALLENGER28.csv DataFrame's shape is (5212, 55)\n",
      "After delete, CHALLENGER28.csv DataFrame's shape is (5212, 55)\n",
      "-------------------------------------------------\n",
      "Before delete, CHALLENGER29.csv DataFrame's shape is (5212, 55)\n",
      "After delete, CHALLENGER29.csv DataFrame's shape is (5212, 55)\n",
      "-------------------------------------------------\n",
      "Before delete, CHALLENGER30.csv DataFrame's shape is (5212, 55)\n",
      "After delete, CHALLENGER30.csv DataFrame's shape is (5212, 55)\n",
      "-------------------------------------------------\n",
      "Before delete, CHALLENGER31.csv DataFrame's shape is (5212, 55)\n",
      "After delete, CHALLENGER31.csv DataFrame's shape is (5212, 55)\n",
      "-------------------------------------------------\n",
      "Before delete, CHALLENGER32.csv DataFrame's shape is (5212, 55)\n",
      "After delete, CHALLENGER32.csv DataFrame's shape is (5212, 55)\n",
      "-------------------------------------------------\n",
      "Before delete, CHALLENGER33.csv DataFrame's shape is (5212, 55)\n",
      "After delete, CHALLENGER33.csv DataFrame's shape is (5212, 55)\n",
      "-------------------------------------------------\n",
      "Before delete, CHALLENGER34.csv DataFrame's shape is (5212, 55)\n",
      "After delete, CHALLENGER34.csv DataFrame's shape is (5212, 55)\n",
      "-------------------------------------------------\n",
      "Before delete, CHALLENGER35.csv DataFrame's shape is (5212, 55)\n",
      "After delete, CHALLENGER35.csv DataFrame's shape is (5212, 55)\n",
      "-------------------------------------------------\n",
      "Before delete, CHALLENGER36.csv DataFrame's shape is (5212, 55)\n",
      "After delete, CHALLENGER36.csv DataFrame's shape is (5212, 55)\n",
      "-------------------------------------------------\n",
      "Before delete, CHALLENGER37.csv DataFrame's shape is (5212, 55)\n",
      "After delete, CHALLENGER37.csv DataFrame's shape is (5212, 55)\n",
      "-------------------------------------------------\n",
      "Before delete, CHALLENGER38.csv DataFrame's shape is (5212, 55)\n",
      "After delete, CHALLENGER38.csv DataFrame's shape is (5212, 55)\n",
      "-------------------------------------------------\n",
      "Before delete, CHALLENGER39.csv DataFrame's shape is (5212, 55)\n",
      "After delete, CHALLENGER39.csv DataFrame's shape is (5212, 55)\n",
      "-------------------------------------------------\n",
      "Before delete, CHALLENGER40.csv DataFrame's shape is (5212, 55)\n",
      "After delete, CHALLENGER40.csv DataFrame's shape is (5212, 55)\n",
      "-------------------------------------------------\n",
      "Before delete, CHALLENGER41.csv DataFrame's shape is (5212, 55)\n",
      "After delete, CHALLENGER41.csv DataFrame's shape is (5212, 55)\n",
      "-------------------------------------------------\n",
      "Before delete, CHALLENGER42.csv DataFrame's shape is (5212, 55)\n",
      "After delete, CHALLENGER42.csv DataFrame's shape is (5212, 55)\n",
      "-------------------------------------------------\n",
      "Before delete, CHALLENGER43.csv DataFrame's shape is (5212, 55)\n",
      "After delete, CHALLENGER43.csv DataFrame's shape is (5212, 55)\n",
      "-------------------------------------------------\n",
      "Before delete, CHALLENGER44.csv DataFrame's shape is (5212, 55)\n",
      "After delete, CHALLENGER44.csv DataFrame's shape is (5212, 55)\n",
      "-------------------------------------------------\n",
      "Before delete, CHALLENGER45.csv DataFrame's shape is (5212, 55)\n",
      "After delete, CHALLENGER45.csv DataFrame's shape is (5212, 55)\n",
      "-------------------------------------------------\n",
      "Before delete, CHALLENGER46.csv DataFrame's shape is (5212, 55)\n",
      "After delete, CHALLENGER46.csv DataFrame's shape is (5212, 55)\n",
      "-------------------------------------------------\n",
      "Before delete, CHALLENGER47.csv DataFrame's shape is (5212, 55)\n"
     ]
    },
    {
     "name": "stdout",
     "output_type": "stream",
     "text": [
      "After delete, CHALLENGER47.csv DataFrame's shape is (5212, 55)\n",
      "-------------------------------------------------\n",
      "Before delete, CHALLENGER48.csv DataFrame's shape is (5212, 55)\n",
      "After delete, CHALLENGER48.csv DataFrame's shape is (5212, 55)\n",
      "-------------------------------------------------\n",
      "Before delete, CHALLENGER49.csv DataFrame's shape is (5212, 55)\n",
      "After delete, CHALLENGER49.csv DataFrame's shape is (5212, 55)\n",
      "-------------------------------------------------\n",
      "Before delete, CHALLENGER50.csv DataFrame's shape is (5212, 55)\n",
      "After delete, CHALLENGER50.csv DataFrame's shape is (5212, 55)\n",
      "-------------------------------------------------\n",
      "\n",
      "All of works have been finished\n"
     ]
    }
   ],
   "source": [
    "print(\"-------------------------------------------------\")\n",
    "for tl in range(1, 51):\n",
    "    # Additional, Train\n",
    "    #df = pd.read_csv(\"./Timeline DataFrames/{0}/{1}/Train/{1}{2}.csv\".format(kinds, tier, tl))\n",
    "    \n",
    "    # Additional, Test\n",
    "    df = pd.read_csv(\"./Timeline DataFrames/{0}/{1}/Test/{1}{2}.csv\".format(kinds, tier, tl))\n",
    "    \n",
    "    # Original\n",
    "    #df = pd.read_csv(\"./Timeline DataFrames/{0}/{1}/{1}{2}.csv\".format(kinds, tier, tl))\n",
    "    \n",
    "    print(\"Before delete, {0}{1}.csv DataFrame's shape is\".format(tier, tl), df.shape)\n",
    "    df_dropna = df.dropna(axis=0)\n",
    "    #df_dropna.to_csv(\"./Timeline DataFrames/{0}/{0}{1}.csv\".format(tier, tl), index=False)\n",
    "    print(\"After delete, {0}{1}.csv DataFrame's shape is\".format(tier, tl), df_dropna.shape)\n",
    "    print(\"-------------------------------------------------\")\n",
    "print(\"\\nAll of works have been finished\")"
   ]
  },
  {
   "cell_type": "markdown",
   "metadata": {},
   "source": [
    "#### (필요 시)NaN 제거 후 저장"
   ]
  },
  {
   "cell_type": "code",
   "execution_count": null,
   "metadata": {},
   "outputs": [],
   "source": [
    "for tl in range(1, 51):\n",
    "    # Additional, Train\n",
    "    df = pd.read_csv(\"./Timeline DataFrames/{0}/{1}/Train/{1}{2}.csv\".format(kinds, tier, tl))\n",
    "    \n",
    "    # Additional, Test\n",
    "    #df = pd.read_csv(\"./Timeline DataFrames/{0}/{1}/Test/{1}{2}.csv\".format(kinds, tier, tl))\n",
    "    \n",
    "    # Original\n",
    "    #df = pd.read_csv(\"./Timeline DataFrames/{0}/{1}/{1}{2}.csv\".format(kinds, tier, tl))\n",
    "    \n",
    "    df_dropna = df.dropna(axis=0)\n",
    "    \n",
    "    ### save file path ###\n",
    "    # Additional, Train\n",
    "    df_dropna.to_csv(\"./Timeline DataFrames/{0}/{1}/Train/{1}{2}.csv\".format(kinds, tier, tl), index=False)\n",
    "    \n",
    "    # Additional, Test\n",
    "    #df_dropna.to_csv(\"./Timeline DataFrames/{0}/{1}/Test/{1}{2}.csv\".format(kinds, tier, tl), index=False)\n",
    "    \n",
    "    # Original\n",
    "    #df_dropna.to_csv(\"./Timeline DataFrames/{0}/{1}/{1}{2}.csv\".format(kinds, tier, tl), index=False)\n",
    "    \n",
    "    \n",
    "    print(\"After delete, {0}{1}.csv DataFrame (shape: {2}) has been saved\".format(tier, tl, df_dropna.shape))"
   ]
  },
  {
   "cell_type": "markdown",
   "metadata": {},
   "source": [
    "#### 경기가 끝난 시간 저장"
   ]
  },
  {
   "cell_type": "code",
   "execution_count": 4,
   "metadata": {},
   "outputs": [
    {
     "name": "stdout",
     "output_type": "stream",
     "text": [
      " >> Processing : 3 - 4\n",
      " >> Processing : 4 - 5\n",
      " >> Processing : 5 - 6\n",
      " >> Processing : 6 - 7\n",
      " >> Processing : 7 - 8\n",
      " >> Processing : 8 - 9\n",
      " >> Processing : 9 - 10\n",
      " >> Processing : 10 - 11\n",
      " >> Processing : 11 - 12\n",
      " >> Processing : 12 - 13\n",
      " >> Processing : 13 - 14\n",
      " >> Processing : 14 - 15\n",
      " >> Processing : 15 - 16\n",
      " >> Processing : 16 - 17\n",
      " >> Processing : 17 - 18\n",
      " >> Processing : 18 - 19\n",
      " >> Processing : 19 - 20\n",
      " >> Processing : 20 - 21\n",
      " >> Processing : 21 - 22\n",
      " >> Processing : 22 - 23\n",
      " >> Processing : 23 - 24\n",
      " >> Processing : 24 - 25\n",
      " >> Processing : 25 - 26\n",
      " >> Processing : 26 - 27\n",
      " >> Processing : 27 - 28\n",
      " >> Processing : 28 - 29\n",
      " >> Processing : 29 - 30\n",
      " >> Processing : 30 - 31\n",
      " >> Processing : 31 - 32\n",
      " >> Processing : 32 - 33\n",
      " >> Processing : 33 - 34\n",
      " >> Processing : 34 - 35\n",
      " >> Processing : 35 - 36\n",
      " >> Processing : 36 - 37\n",
      " >> Processing : 37 - 38\n",
      " >> Processing : 38 - 39\n",
      " >> Processing : 39 - 40\n",
      " >> Processing : 40 - 41\n",
      " >> Processing : 41 - 42\n",
      " >> Processing : 42 - 43\n",
      " >> Processing : 43 - 44\n",
      " >> Processing : 44 - 45\n",
      " >> Processing : 45 - 46\n",
      " >> Processing : 46 - 47\n",
      " >> Processing : 47 - 48\n",
      " >> Processing : 48 - 49\n",
      " >> Processing : 49 - 50\n"
     ]
    }
   ],
   "source": [
    "# Additional, Train\n",
    "#df = pd.read_csv(\"./Timeline DataFrames/{0}/{1}/Train/{1}{2}.csv\".format(kinds, tier, 10))\n",
    "\n",
    "# Additional, Test\n",
    "df = pd.read_csv(\"./Timeline DataFrames/{0}/{1}/Test/{1}{2}.csv\".format(kinds, tier, 10))\n",
    "\n",
    "# Original\n",
    "#df = pd.read_csv(\"./Timeline DataFrames/{0}/{1}/{1}{2}.csv\".format(kinds, tier, 10))\n",
    "\n",
    "endTimes = [end for _ in range(df.shape[0])]\n",
    "done = [0 for _ in range(df.shape[0])]\n",
    "numMatches = len(endTimes)\n",
    "for tl in range(start, end):\n",
    "    print(\" >> Processing : {} - {}\".format(tl, tl+1))\n",
    "    \n",
    "    # Additional, Train\n",
    "    #_df = pd.read_csv(\"./Timeline DataFrames/{0}/{1}/Train/{1}{2}.csv\".format(kinds, tier, tl))\n",
    "    #df = pd.read_csv(\"./Timeline DataFrames/{0}/{1}/Train/{1}{2}.csv\".format(kinds, tier, tl+1))\n",
    "    \n",
    "    # Additional, Test\n",
    "    _df = pd.read_csv(\"./Timeline DataFrames/{0}/{1}/Test/{1}{2}.csv\".format(kinds, tier, tl))\n",
    "    df = pd.read_csv(\"./Timeline DataFrames/{0}/{1}/Test/{1}{2}.csv\".format(kinds, tier, tl+1))\n",
    "    \n",
    "    # Original\n",
    "    #_df = pd.read_csv(\"./Timeline DataFrames/{0}/{1}/{1}{2}.csv\".format(kinds, tier, tl))\n",
    "    #df = pd.read_csv(\"./Timeline DataFrames/{0}/{1}/{1}{2}.csv\".format(kinds, tier, tl+1))\n",
    "    \n",
    "    for i in range(numMatches):\n",
    "        if done[i] == 1: continue\n",
    "        if _df[\"blueTotalGolds\"].iloc[i] == df[\"blueTotalGolds\"].iloc[i]:\n",
    "            endTimes[i] = tl\n",
    "            done[i] = 1"
   ]
  },
  {
   "cell_type": "code",
   "execution_count": 5,
   "metadata": {},
   "outputs": [
    {
     "name": "stdout",
     "output_type": "stream",
     "text": [
      "[21, 23, 28, 17, 18, 23, 39, 17, 27, 33, 25, 33, 27, 41, 34, 29, 28, 32, 17, 29, 34, 29, 25, 24, 21, 28, 23, 19, 17, 39]\n",
      "len(endTimes): 5212\n"
     ]
    }
   ],
   "source": [
    "print(endTimes[:30])\n",
    "print(\"len(endTimes): {}\".format(len(endTimes)))"
   ]
  },
  {
   "cell_type": "code",
   "execution_count": 6,
   "metadata": {},
   "outputs": [
    {
     "data": {
      "text/plain": [
       "24.285495011511895"
      ]
     },
     "execution_count": 6,
     "metadata": {},
     "output_type": "execute_result"
    }
   ],
   "source": [
    "import numpy as np\n",
    "np.mean(endTimes)"
   ]
  },
  {
   "cell_type": "code",
   "execution_count": 7,
   "metadata": {},
   "outputs": [
    {
     "data": {
      "text/plain": [
       "'\\n# Original\\nwith open(\"endtimes/{}/{}endtimes.pkl\".format(kinds, tier), \"wb\") as f:\\n    pickle.dump(endTimes, f)\\n'"
      ]
     },
     "execution_count": 7,
     "metadata": {},
     "output_type": "execute_result"
    }
   ],
   "source": [
    "\"\"\"\n",
    "# Additional, Train\n",
    "with open(\"endtimes/{}/Train/{}endtimes.pkl\".format(kinds, tier), \"wb\") as f:\n",
    "    pickle.dump(endTimes, f)\n",
    "\"\"\"\n",
    "\n",
    "#\"\"\"\n",
    "# Additional, Test\n",
    "with open(\"endtimes/{}/Test/{}endtimes.pkl\".format(kinds, tier), \"wb\") as f:\n",
    "    pickle.dump(endTimes, f)\n",
    "#\"\"\"\n",
    "\n",
    "\"\"\"\n",
    "# Original\n",
    "with open(\"endtimes/{}/{}endtimes.pkl\".format(kinds, tier), \"wb\") as f:\n",
    "    pickle.dump(endTimes, f)\n",
    "\"\"\""
   ]
  }
 ],
 "metadata": {
  "kernelspec": {
   "display_name": "Python 3",
   "language": "python",
   "name": "python3"
  },
  "language_info": {
   "codemirror_mode": {
    "name": "ipython",
    "version": 3
   },
   "file_extension": ".py",
   "mimetype": "text/x-python",
   "name": "python",
   "nbconvert_exporter": "python",
   "pygments_lexer": "ipython3",
   "version": "3.8.3"
  }
 },
 "nbformat": 4,
 "nbformat_minor": 2
}
