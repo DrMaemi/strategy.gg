{
 "cells": [
  {
   "cell_type": "code",
   "execution_count": 1,
   "metadata": {},
   "outputs": [],
   "source": [
    "import pandas as pd\n",
    "import numpy as np\n",
    "import time\n",
    "from riotapis import calc\n",
    "s = 1000 # metric: millisecond\n",
    "start, end, minute = 1, 50, 60*s"
   ]
  },
  {
   "cell_type": "markdown",
   "metadata": {},
   "source": [
    "## Get Timeline DataFrames"
   ]
  },
  {
   "cell_type": "markdown",
   "metadata": {},
   "source": [
    "### Original Timeline Response Objects"
   ]
  },
  {
   "cell_type": "code",
   "execution_count": null,
   "metadata": {},
   "outputs": [],
   "source": [
    "kinds = 'Original'\n",
    "tier = 'GOLD'\n",
    "divisions = ['III', 'II', 'I']\n",
    "file = \"../Timeline Response Objects/{0}/{1}/{1}{2}ResponseObjects\"\n",
    "#file = \"../Timeline Response Objects/{}{}ResponseObjects\"\n",
    "for m in range(start, end+1):\n",
    "    print(\"\\n=========================================\")\n",
    "    start_time = time.time()\n",
    "    df = pd.DataFrame()\n",
    "    print(\"\\n>> Processing : {} minutes\\n\".format(m))\n",
    "    for division in divisions:\n",
    "        print(\"-----------------------------------------\")\n",
    "        ResponseObjects = pd.read_pickle(file.format(kinds, tier, division))\n",
    "        print(\">> >> {} {} ResponseObjects loaded\".format(tier, division))\n",
    "        _df = calc(ResponseObjects, m*minute)\n",
    "        df = pd.concat([df, _df])\n",
    "        ResponseObjects = 0 # release memoriers\\\n",
    "        print(\"-----------------------------------------\")\n",
    "    df.to_csv(\"./Timeline DataFrames/{0}/{1}/{1}{2}.csv\".format(kinds, tier, m), index=False)\n",
    "    print(\"Done. Wait time: {} second(s)\".format(round(time.time()-start_time, 1)))\n",
    "    print(\"\\n=========================================\")\n",
    "print(\"All of works have been finished\")"
   ]
  },
  {
   "cell_type": "markdown",
   "metadata": {},
   "source": [
    "### Additional Timeline Response Objects"
   ]
  },
  {
   "cell_type": "markdown",
   "metadata": {},
   "source": [
    "#### For training dataset"
   ]
  },
  {
   "cell_type": "code",
   "execution_count": null,
   "metadata": {
    "scrolled": true
   },
   "outputs": [],
   "source": [
    "kinds = 'Additional'\n",
    "tier = 'GOLD'\n",
    "file = \"../Timeline Response Objects/{0}/{1}/{1}ResponseObjects{2}\"\n",
    "files = [i for i in range(1, 10)] # 1 to 9\n",
    "for m in range(start, end+1):\n",
    "    start_time = time.time()\n",
    "    df = pd.DataFrame()\n",
    "    print(\"\\n=========================================\")\n",
    "    print(\">> Processing : {} minutes\".format(m))\n",
    "    for i in files:\n",
    "        print(\"-----------------------------------------\")\n",
    "        print(\">> >> ResponseObjects {} loaded\".format(i))\n",
    "        ResponseObjects = pd.read_pickle(file.format(kinds, tier, i))\n",
    "        _df = calc(ResponseObjects, m*minute)\n",
    "        df = pd.concat([df, _df])\n",
    "        ResponseObjects = 0 # release memoriers\\\n",
    "        print(\"-----------------------------------------\")\n",
    "    df.to_csv(\"./Timeline DataFrames/{0}/{1}/Train/{1}{2}.csv\".format(kinds, tier, m), index=False)\n",
    "    print(\"Done. Wait time: {} second(s)\".format(round(time.time()-start_time, 1)))\n",
    "    print(\"=========================================\\n\")\n",
    "print(\"All of works have been finished\")"
   ]
  },
  {
   "cell_type": "markdown",
   "metadata": {},
   "source": [
    "#### For test dataset"
   ]
  },
  {
   "cell_type": "code",
   "execution_count": null,
   "metadata": {},
   "outputs": [],
   "source": [
    "kinds = 'Additional'\n",
    "tier = 'GOLD'\n",
    "files = [10] # 골드일 땐 10, 다이아일 땐 3, 마스터일때 5이어야 한다.\n",
    "file = \"../Timeline Response Objects/{0}/{1}/{1}ResponseObjects{2}\"\n",
    "for m in range(start, end+1):\n",
    "    start_time = time.time()\n",
    "    df = pd.DataFrame()\n",
    "    print(\"\\n=========================================\")\n",
    "    print(\">> Processing : {} minutes\".format(m))\n",
    "    for i in files:\n",
    "        print(\"-----------------------------------------\")\n",
    "        print(\">> >> ResponseObjects {} loaded\".format(i))\n",
    "        ResponseObjects = pd.read_pickle(file.format(kinds, tier, i))\n",
    "        _df = calc(ResponseObjects, m*minute)\n",
    "        df = pd.concat([df, _df])\n",
    "        ResponseObjects = 0 # release memoriers\\\n",
    "        print(\"-----------------------------------------\")\n",
    "    df.to_csv(\"./Timeline DataFrames/{0}/{1}/Test/{1}{2}.csv\".format(kinds, tier, m), index=False)\n",
    "    print(\"Done. Wait time: {} second(s)\".format(round(time.time()-start_time, 1)))\n",
    "    print(\"=========================================\\n\")\n",
    "print(\"All of works have been finished\")"
   ]
  }
 ],
 "metadata": {
  "kernelspec": {
   "display_name": "Python 3",
   "language": "python",
   "name": "python3"
  },
  "language_info": {
   "codemirror_mode": {
    "name": "ipython",
    "version": 3
   },
   "file_extension": ".py",
   "mimetype": "text/x-python",
   "name": "python",
   "nbconvert_exporter": "python",
   "pygments_lexer": "ipython3",
   "version": "3.8.3"
  }
 },
 "nbformat": 4,
 "nbformat_minor": 2
}
