{
 "cells": [
  {
   "cell_type": "markdown",
   "metadata": {},
   "source": [
    "### API 키 입력"
   ]
  },
  {
   "cell_type": "code",
   "execution_count": 2,
   "metadata": {},
   "outputs": [],
   "source": [
    "api_key = \"RGAPI-a9c7d51b-8ed8-477e-9f43-7528c433ff76\" # 라이엇 계정\n",
    "# Expires: Tue, Nov 17th, 2020 @ 10:28am (PT). 대한민국 시간 기준 11월 19일 03:28까지 유효\n",
    "# 대한민국 시간은 PT보다 17시간 더 빠릅니다."
   ]
  },
  {
   "cell_type": "markdown",
   "metadata": {},
   "source": [
    "### 라이브러리 Import"
   ]
  },
  {
   "cell_type": "code",
   "execution_count": 3,
   "metadata": {},
   "outputs": [],
   "source": [
    "import pandas as pd\n",
    "import time\n",
    "import riotapis\n",
    "import pickle"
   ]
  },
  {
   "cell_type": "markdown",
   "metadata": {},
   "source": [
    "### (4-1단계) 매치 ID로부터 경기 승/패 데이터 얻기"
   ]
  },
  {
   "cell_type": "code",
   "execution_count": 4,
   "metadata": {
    "scrolled": true
   },
   "outputs": [
    {
     "name": "stdout",
     "output_type": "stream",
     "text": [
      "DIAMOND II start\n",
      "status : 200, loop location : 0/19021, processing : 0.0%\n",
      "\n",
      "KeyboardInterrupt; Terminate Loop\n",
      "DIAMOND II IDWinLose List saved\n"
     ]
    }
   ],
   "source": [
    "tiers = ['DIAMOND']\n",
    "# 'BRONZE', 'SILVER', 'GOLD', 'PLATINUM', 'DIAMOND'\n",
    "divisions = ['II']\n",
    "# 'IV', 'III', 'II', 'I'\n",
    "\n",
    "for tier in tiers:\n",
    "    for division in divisions:\n",
    "        print(\"{0} {1} start\".format(tier, division))\n",
    "        gameIdList = pd.read_pickle(\"./Game ID List/\"+tier+division+\"gameIdList\")\n",
    "        gameIdList = list(set(gameIdList))\n",
    "        IDWinLoseList = riotapis.getIDWinLoseList(gameIdList, api_key)\n",
    "        fileName = \"./IDWinLose List/\"+tier+division+\"IDWinLoseList\"\n",
    "        with open(fileName, 'wb') as f:\n",
    "            pickle.dump(IDWinLoseList, f)\n",
    "        print(tier, division, \"IDWinLose List saved\")\n",
    "        IDWinLoseList = 0"
   ]
  },
  {
   "cell_type": "markdown",
   "metadata": {},
   "source": [
    "### (4-2단계) IDWinLoseList로부터 Timeline Response Object 얻기"
   ]
  },
  {
   "cell_type": "code",
   "execution_count": null,
   "metadata": {},
   "outputs": [],
   "source": [
    "tiers = ['PLATINUM']\n",
    "# 'BRONZE', 'SILVER', 'GOLD', 'PLATINUM', 'DIAMOND'\n",
    "divisions = ['II']\n",
    "# 'IV', 'III', 'II', 'I'\n",
    "\n",
    "for tier in tiers:\n",
    "    for division in divisions:\n",
    "        print(\"{0} {1} start\".format(tier, division))\n",
    "        IDWinLoseList = pd.read_pickle(\"./IDWinLose List/\"+tier+division+\"IDWinLoseList\")\n",
    "        ResponseObjects = riotapis.getTimelineResponseObject(IDWinLoseList, api_key)\n",
    "        fileName = './Timeline Response Objects/'+tier+division+'ResponseObjects'\n",
    "        with open(fileName, 'wb') as f:\n",
    "            pickle.dump(ResponseObjects, f)\n",
    "        print(tier, division, \"Timeline Response Objects saved\")"
   ]
  }
 ],
 "metadata": {
  "kernelspec": {
   "display_name": "Python 3",
   "language": "python",
   "name": "python3"
  },
  "language_info": {
   "codemirror_mode": {
    "name": "ipython",
    "version": 3
   },
   "file_extension": ".py",
   "mimetype": "text/x-python",
   "name": "python",
   "nbconvert_exporter": "python",
   "pygments_lexer": "ipython3",
   "version": "3.8.3"
  }
 },
 "nbformat": 4,
 "nbformat_minor": 4
}
